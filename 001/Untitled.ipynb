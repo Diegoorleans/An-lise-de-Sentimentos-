{
 "cells": [
  {
   "cell_type": "code",
   "execution_count": 1,
   "metadata": {},
   "outputs": [],
   "source": [
    "import tweepy\n",
    "\n",
    "\n",
    "chave_consumidor = 'DiGeoe2tgTgqJsOLlcp3jkmVi'\n",
    "segredo_consumidor = '1PXjmFcmooP0RFeacIMAOJSerEnwzwlb0Zkqk8JXnH2EfUF60t'\n",
    "token_acesso = '1106975701176107008-oUTEQfOnwiOAAl2AJFDKCUx2WO2llj'\n",
    "token_acesso_segredo = 'tj7vMmAZyJr8LrrFROpxV1Q1RkmIhW27iDnIDwnapbpT3'"
   ]
  },
  {
   "cell_type": "code",
   "execution_count": 2,
   "metadata": {},
   "outputs": [],
   "source": [
    "autenticacao = tweepy.OAuthHandler(chave_consumidor, segredo_consumidor)\n",
    "autenticacao.set_access_token(token_acesso, token_acesso_segredo)"
   ]
  },
  {
   "cell_type": "code",
   "execution_count": 3,
   "metadata": {},
   "outputs": [],
   "source": [
    "twitter = tweepy.API(autenticacao)"
   ]
  },
  {
   "cell_type": "code",
   "execution_count": 4,
   "metadata": {},
   "outputs": [
    {
     "name": "stdout",
     "output_type": "stream",
     "text": [
      "Usuário: crystaltemp - Tweet: alguém me informa onde é a famosa escadaria da fatec do pra eu ver se é real ou não\n",
      "Usuário: thaylaysla - Tweet: @MathSL1 É que os cursos da fatec que me interessou ficou total na contramão, e o da etec tem um pertinho\n",
      "Usuário: MathSL1 - Tweet: @thaylaysla no seu lugar tentaria fatec mesmo.\n",
      "Usuário: _babini - Tweet: RT @robsonnunesluz: Cervejada fatec quando eu lembro da do ano passado da até uma dorzinha no fígado 🤦🏾‍♂️😂\n",
      "Usuário: elzobrito - Tweet: #VempraEtec https://t.co/3W5iV6Lit7 #cps #etec #fatec\n",
      "Usuário: MathSL1 - Tweet: por eu já ter uma graduação na fatec, caso passe nesse curso, vou eliminar metade da grade, estouro demais. espero passar.\n",
      "Usuário: MathSL1 - Tweet: querem faculdade pública de graça e de qualidade??\n",
      "FATEC é uma boa. pra quem mora em sp, recomendo muito!\n",
      "Usuário: MathSL1 - Tweet: me inscrevi pra prestar o vestibular da fatec\n",
      "Usuário: ufscaroficial - Tweet: I Workshop de Desenvolvimento Regional do  Sudoeste Paulista acontece no dia 14 de junho na Fatec de Capão Bonito.  https://t.co/wTLQXrbpcg\n",
      "Usuário: andrieigut - Tweet: To be more precise, the 3rd School in Brazil, now in #Fatec São Caetano. Other 2 schools have been  running P-Tech… https://t.co/Yq9dymdfC6\n",
      "Usuário: gfrnds_ - Tweet: A matéria mais difícil da Fatec e da Etec é a presença\n",
      "Usuário: BTerzariol - Tweet: RT @robsonnunesluz: Cervejada fatec quando eu lembro da do ano passado da até uma dorzinha no fígado 🤦🏾‍♂️😂\n",
      "Usuário: PaoloNathan19 - Tweet: Estudar para passar no vestibular da Fatec.\n",
      "As coisas esta preta por aqui\n",
      "Usuário: _daniel_hs - Tweet: 2012: último ano na escola\n",
      "2013: comecei fatec e namoro\n",
      "2014: copa do mundo, desespero pra achar estágio\n",
      "2015:  com… https://t.co/SEC3AJR6Xv\n",
      "Usuário: _brunobritooo - Tweet: no caminho da fatec pra casa parece q eu passei por uns 3 continentes, choveu, choveu muito, parou de chover, chove… https://t.co/X0QkYLsBXJ\n"
     ]
    }
   ],
   "source": [
    "resultados = twitter.search(q='Fatec')\n",
    "for tweet in resultados:\n",
    "     print(f'Usuário: {tweet.user.screen_name} - Tweet: {tweet.text}')"
   ]
  },
  {
   "cell_type": "code",
   "execution_count": null,
   "metadata": {},
   "outputs": [],
   "source": []
  },
  {
   "cell_type": "code",
   "execution_count": 5,
   "metadata": {},
   "outputs": [],
   "source": [
    "import pandas as pd\n",
    "import numpy as np\n",
    "import matplotlib as plt\n",
    "from textblob import TextBlob as tb"
   ]
  },
  {
   "cell_type": "code",
   "execution_count": 6,
   "metadata": {},
   "outputs": [],
   "source": [
    "analysis = None"
   ]
  },
  {
   "cell_type": "code",
   "execution_count": 7,
   "metadata": {},
   "outputs": [
    {
     "name": "stdout",
     "output_type": "stream",
     "text": [
      "alguém me informa onde é a famosa escadaria da fatec do pra eu ver se é real ou não\n",
      "0.2\n",
      "@MathSL1 É que os cursos da fatec que me interessou ficou total na contramão, e o da etec tem um pertinho\n",
      "0.0\n",
      "@thaylaysla no seu lugar tentaria fatec mesmo.\n",
      "0.0\n",
      "RT @robsonnunesluz: Cervejada fatec quando eu lembro da do ano passado da até uma dorzinha no fígado 🤦🏾‍♂️😂\n",
      "0.0\n",
      "#VempraEtec https://t.co/3W5iV6Lit7 #cps #etec #fatec\n",
      "0.0\n",
      "por eu já ter uma graduação na fatec, caso passe nesse curso, vou eliminar metade da grade, estouro demais. espero passar.\n",
      "0.0\n",
      "querem faculdade pública de graça e de qualidade??\n",
      "FATEC é uma boa. pra quem mora em sp, recomendo muito!\n",
      "0.0\n",
      "me inscrevi pra prestar o vestibular da fatec\n",
      "0.0\n",
      "I Workshop de Desenvolvimento Regional do  Sudoeste Paulista acontece no dia 14 de junho na Fatec de Capão Bonito.  https://t.co/wTLQXrbpcg\n",
      "0.0\n",
      "To be more precise, the 3rd School in Brazil, now in #Fatec São Caetano. Other 2 schools have been  running P-Tech… https://t.co/Yq9dymdfC6\n",
      "0.19375\n",
      "A matéria mais difícil da Fatec e da Etec é a presença\n",
      "0.0\n",
      "RT @robsonnunesluz: Cervejada fatec quando eu lembro da do ano passado da até uma dorzinha no fígado 🤦🏾‍♂️😂\n",
      "0.0\n",
      "Estudar para passar no vestibular da Fatec.\n",
      "As coisas esta preta por aqui\n",
      "0.0\n",
      "2012: último ano na escola\n",
      "2013: comecei fatec e namoro\n",
      "2014: copa do mundo, desespero pra achar estágio\n",
      "2015:  com… https://t.co/SEC3AJR6Xv\n",
      "0.0\n",
      "no caminho da fatec pra casa parece q eu passei por uns 3 continentes, choveu, choveu muito, parou de chover, chove… https://t.co/X0QkYLsBXJ\n",
      "0.0\n"
     ]
    }
   ],
   "source": [
    "tweets = [] # Lista vazia para armazenar scores\n",
    "for tweet in resultados:\n",
    "    print(tweet.text)\n",
    "    analysis = tb(tweet.text)\n",
    "    polarity = analysis.sentiment.polarity\n",
    "    tweets.append(polarity)\n",
    "    print(polarity)\n",
    "    \n",
    "    \n"
   ]
  },
  {
   "cell_type": "code",
   "execution_count": 8,
   "metadata": {},
   "outputs": [
    {
     "name": "stdout",
     "output_type": "stream",
     "text": [
      "MÉDIA DE SENTIMENTO: 0.026250000000000002\n"
     ]
    }
   ],
   "source": [
    "print('MÉDIA DE SENTIMENTO: ' + str(np.mean(tweets)))"
   ]
  },
  {
   "cell_type": "code",
   "execution_count": 9,
   "metadata": {},
   "outputs": [
    {
     "ename": "NameError",
     "evalue": "name 'data' is not defined",
     "output_type": "error",
     "traceback": [
      "\u001b[1;31m---------------------------------------------------------------------------\u001b[0m",
      "\u001b[1;31mNameError\u001b[0m                                 Traceback (most recent call last)",
      "\u001b[1;32m<ipython-input-9-029049558df7>\u001b[0m in \u001b[0;36m<module>\u001b[1;34m()\u001b[0m\n\u001b[1;32m----> 1\u001b[1;33m \u001b[0mpos_tweets\u001b[0m \u001b[1;33m=\u001b[0m \u001b[1;33m[\u001b[0m \u001b[0mresultados\u001b[0m \u001b[1;32mfor\u001b[0m \u001b[0mindex\u001b[0m\u001b[1;33m,\u001b[0m \u001b[0mresultados\u001b[0m \u001b[1;32min\u001b[0m \u001b[0menumerate\u001b[0m\u001b[1;33m(\u001b[0m\u001b[0mdata\u001b[0m\u001b[1;33m[\u001b[0m\u001b[1;34m'Tweets'\u001b[0m\u001b[1;33m]\u001b[0m\u001b[1;33m)\u001b[0m \u001b[1;32mif\u001b[0m \u001b[0mdata\u001b[0m\u001b[1;33m[\u001b[0m\u001b[1;34m'SA'\u001b[0m\u001b[1;33m]\u001b[0m\u001b[1;33m[\u001b[0m\u001b[0mindex\u001b[0m\u001b[1;33m]\u001b[0m \u001b[1;33m>\u001b[0m \u001b[1;36m0\u001b[0m\u001b[1;33m]\u001b[0m\u001b[1;33m\u001b[0m\u001b[0m\n\u001b[0m\u001b[0;32m      2\u001b[0m \u001b[0mneu_tweets\u001b[0m \u001b[1;33m=\u001b[0m \u001b[1;33m[\u001b[0m \u001b[0mresultados\u001b[0m \u001b[1;32mfor\u001b[0m \u001b[0mindex\u001b[0m\u001b[1;33m,\u001b[0m \u001b[0mresultados\u001b[0m \u001b[1;32min\u001b[0m \u001b[0menumerate\u001b[0m\u001b[1;33m(\u001b[0m\u001b[0mdata\u001b[0m\u001b[1;33m[\u001b[0m\u001b[1;34m'Tweets'\u001b[0m\u001b[1;33m]\u001b[0m\u001b[1;33m)\u001b[0m \u001b[1;32mif\u001b[0m \u001b[0mdata\u001b[0m\u001b[1;33m[\u001b[0m\u001b[1;34m'SA'\u001b[0m\u001b[1;33m]\u001b[0m\u001b[1;33m[\u001b[0m\u001b[0mindex\u001b[0m\u001b[1;33m]\u001b[0m \u001b[1;33m==\u001b[0m \u001b[1;36m0\u001b[0m\u001b[1;33m]\u001b[0m\u001b[1;33m\u001b[0m\u001b[0m\n\u001b[0;32m      3\u001b[0m \u001b[0mneg_tweets\u001b[0m \u001b[1;33m=\u001b[0m \u001b[1;33m[\u001b[0m \u001b[0mresultados\u001b[0m \u001b[1;32mfor\u001b[0m \u001b[0mindex\u001b[0m\u001b[1;33m,\u001b[0m \u001b[0mresultados\u001b[0m \u001b[1;32min\u001b[0m \u001b[0menumerate\u001b[0m\u001b[1;33m(\u001b[0m\u001b[0mdata\u001b[0m\u001b[1;33m[\u001b[0m\u001b[1;34m'Tweets'\u001b[0m\u001b[1;33m]\u001b[0m\u001b[1;33m)\u001b[0m \u001b[1;32mif\u001b[0m \u001b[0mdata\u001b[0m\u001b[1;33m[\u001b[0m\u001b[1;34m'SA'\u001b[0m\u001b[1;33m]\u001b[0m\u001b[1;33m[\u001b[0m\u001b[0mindex\u001b[0m\u001b[1;33m]\u001b[0m \u001b[1;33m<\u001b[0m \u001b[1;36m0\u001b[0m\u001b[1;33m]\u001b[0m\u001b[1;33m\u001b[0m\u001b[0m\n\u001b[0;32m      4\u001b[0m \u001b[1;33m\u001b[0m\u001b[0m\n\u001b[0;32m      5\u001b[0m \u001b[1;33m\u001b[0m\u001b[0m\n",
      "\u001b[1;31mNameError\u001b[0m: name 'data' is not defined"
     ]
    }
   ],
   "source": [
    "pos_tweets = [ resultados for index, resultados in enumerate(data['Tweets']) if data['SA'][index] > 0]\n",
    "neu_tweets = [ resultados for index, resultados in enumerate(data['Tweets']) if data['SA'][index] == 0]\n",
    "neg_tweets = [ resultados for index, resultados in enumerate(data['Tweets']) if data['SA'][index] < 0]\n",
    "\n",
    "\n",
    "print(\"Percentage of positive tweets: {}%\".format(len(pos_tweets)*100/len(data['Tweets'])))\n",
    "print(\"Percentage of neutral tweets: {}%\".format(len(neu_tweets)*100/len(data['Tweets'])))\n",
    "print(\"Percentage de negative tweets: {}%\".format(len(neg_tweets)*100/len(data['Tweets'])))\n",
    "\n",
    "\n"
   ]
  },
  {
   "cell_type": "code",
   "execution_count": null,
   "metadata": {},
   "outputs": [],
   "source": []
  }
 ],
 "metadata": {
  "kernelspec": {
   "display_name": "Python 3",
   "language": "python",
   "name": "python3"
  },
  "language_info": {
   "codemirror_mode": {
    "name": "ipython",
    "version": 3
   },
   "file_extension": ".py",
   "mimetype": "text/x-python",
   "name": "python",
   "nbconvert_exporter": "python",
   "pygments_lexer": "ipython3",
   "version": "3.6.5"
  }
 },
 "nbformat": 4,
 "nbformat_minor": 2
}
