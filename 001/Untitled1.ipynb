{
 "cells": [
  {
   "cell_type": "code",
   "execution_count": 2,
   "metadata": {},
   "outputs": [],
   "source": [
    "import numpy as np\n",
    "import pandas as pd\n",
    "import tweepy\n",
    "import matplotlib as plt\n",
    "import seaborn as sns\n",
    "import textblob\n",
    "from IPython.display import display\n",
    "from textblob import TextBlob\n",
    "import re"
   ]
  },
  {
   "cell_type": "code",
   "execution_count": 3,
   "metadata": {},
   "outputs": [],
   "source": [
    "import tweepy\n",
    "\n",
    "\n",
    "chave_consumidor = 'DiGeoe2tgTgqJsOLlcp3jkmVi1'\n",
    "segredo_consumidor = '1PXjmFcmooP0RFeacIMAOJSerEnwzwlb0Zkqk8JXnH2EfUF60t1'\n",
    "token_acesso = '1106975701176107008-oUTEQfOnwiOAAl2AJFDKCUx2WO2llj'\n",
    "token_acesso_segredo = 'tj7vMmAZyJr8LrrFROpxV1Q1RkmIhW27iDnIDwnapbpT3'"
   ]
  },
  {
   "cell_type": "code",
   "execution_count": 4,
   "metadata": {},
   "outputs": [],
   "source": [
    "autenticacao = tweepy.OAuthHandler(chave_consumidor, segredo_consumidor)\n",
    "autenticacao.set_access_token(token_acesso, token_acesso_segredo)"
   ]
  },
  {
   "cell_type": "code",
   "execution_count": 5,
   "metadata": {},
   "outputs": [],
   "source": [
    "twitter = tweepy.API(autenticacao)\n"
   ]
  },
  {
   "cell_type": "code",
   "execution_count": 6,
   "metadata": {},
   "outputs": [
    {
     "name": "stdout",
     "output_type": "stream",
     "text": [
      "Usuário: crystaltemp - Tweet: alguém me informa onde é a famosa escadaria da fatec do pra eu ver se é real ou não\n",
      "Usuário: thaylaysla - Tweet: @MathSL1 É que os cursos da fatec que me interessou ficou total na contramão, e o da etec tem um pertinho\n",
      "Usuário: MathSL1 - Tweet: @thaylaysla no seu lugar tentaria fatec mesmo.\n",
      "Usuário: _babini - Tweet: RT @robsonnunesluz: Cervejada fatec quando eu lembro da do ano passado da até uma dorzinha no fígado 🤦🏾‍♂️😂\n",
      "Usuário: elzobrito - Tweet: #VempraEtec https://t.co/3W5iV6Lit7 #cps #etec #fatec\n",
      "Usuário: MathSL1 - Tweet: por eu já ter uma graduação na fatec, caso passe nesse curso, vou eliminar metade da grade, estouro demais. espero passar.\n",
      "Usuário: MathSL1 - Tweet: querem faculdade pública de graça e de qualidade??\n",
      "FATEC é uma boa. pra quem mora em sp, recomendo muito!\n",
      "Usuário: MathSL1 - Tweet: me inscrevi pra prestar o vestibular da fatec\n",
      "Usuário: ufscaroficial - Tweet: I Workshop de Desenvolvimento Regional do  Sudoeste Paulista acontece no dia 14 de junho na Fatec de Capão Bonito.  https://t.co/wTLQXrbpcg\n",
      "Usuário: andrieigut - Tweet: To be more precise, the 3rd School in Brazil, now in #Fatec São Caetano. Other 2 schools have been  running P-Tech… https://t.co/Yq9dymdfC6\n",
      "Usuário: gfrnds_ - Tweet: A matéria mais difícil da Fatec e da Etec é a presença\n",
      "Usuário: BTerzariol - Tweet: RT @robsonnunesluz: Cervejada fatec quando eu lembro da do ano passado da até uma dorzinha no fígado 🤦🏾‍♂️😂\n",
      "Usuário: PaoloNathan19 - Tweet: Estudar para passar no vestibular da Fatec.\n",
      "As coisas esta preta por aqui\n",
      "Usuário: _daniel_hs - Tweet: 2012: último ano na escola\n",
      "2013: comecei fatec e namoro\n",
      "2014: copa do mundo, desespero pra achar estágio\n",
      "2015:  com… https://t.co/SEC3AJR6Xv\n",
      "Usuário: _brunobritooo - Tweet: no caminho da fatec pra casa parece q eu passei por uns 3 continentes, choveu, choveu muito, parou de chover, chove… https://t.co/X0QkYLsBXJ\n"
     ]
    }
   ],
   "source": [
    "resultados = twitter.search(q='Fatec')\n",
    "for tweet in resultados:\n",
    "     print(f'Usuário: {tweet.user.screen_name} - Tweet: {tweet.text}')"
   ]
  },
  {
   "cell_type": "code",
   "execution_count": 7,
   "metadata": {},
   "outputs": [
    {
     "data": {
      "text/html": [
       "<div>\n",
       "<style scoped>\n",
       "    .dataframe tbody tr th:only-of-type {\n",
       "        vertical-align: middle;\n",
       "    }\n",
       "\n",
       "    .dataframe tbody tr th {\n",
       "        vertical-align: top;\n",
       "    }\n",
       "\n",
       "    .dataframe thead th {\n",
       "        text-align: right;\n",
       "    }\n",
       "</style>\n",
       "<table border=\"1\" class=\"dataframe\">\n",
       "  <thead>\n",
       "    <tr style=\"text-align: right;\">\n",
       "      <th></th>\n",
       "      <th>resultados</th>\n",
       "    </tr>\n",
       "  </thead>\n",
       "  <tbody>\n",
       "    <tr>\n",
       "      <th>0</th>\n",
       "      <td>alguém me informa onde é a famosa escadaria da...</td>\n",
       "    </tr>\n",
       "    <tr>\n",
       "      <th>1</th>\n",
       "      <td>@MathSL1 É que os cursos da fatec que me inter...</td>\n",
       "    </tr>\n",
       "    <tr>\n",
       "      <th>2</th>\n",
       "      <td>@thaylaysla no seu lugar tentaria fatec mesmo.</td>\n",
       "    </tr>\n",
       "    <tr>\n",
       "      <th>3</th>\n",
       "      <td>RT @robsonnunesluz: Cervejada fatec quando eu ...</td>\n",
       "    </tr>\n",
       "    <tr>\n",
       "      <th>4</th>\n",
       "      <td>#VempraEtec https://t.co/3W5iV6Lit7 #cps #etec...</td>\n",
       "    </tr>\n",
       "    <tr>\n",
       "      <th>5</th>\n",
       "      <td>por eu já ter uma graduação na fatec, caso pas...</td>\n",
       "    </tr>\n",
       "    <tr>\n",
       "      <th>6</th>\n",
       "      <td>querem faculdade pública de graça e de qualida...</td>\n",
       "    </tr>\n",
       "    <tr>\n",
       "      <th>7</th>\n",
       "      <td>me inscrevi pra prestar o vestibular da fatec</td>\n",
       "    </tr>\n",
       "    <tr>\n",
       "      <th>8</th>\n",
       "      <td>I Workshop de Desenvolvimento Regional do  Sud...</td>\n",
       "    </tr>\n",
       "    <tr>\n",
       "      <th>9</th>\n",
       "      <td>To be more precise, the 3rd School in Brazil, ...</td>\n",
       "    </tr>\n",
       "  </tbody>\n",
       "</table>\n",
       "</div>"
      ],
      "text/plain": [
       "                                          resultados\n",
       "0  alguém me informa onde é a famosa escadaria da...\n",
       "1  @MathSL1 É que os cursos da fatec que me inter...\n",
       "2     @thaylaysla no seu lugar tentaria fatec mesmo.\n",
       "3  RT @robsonnunesluz: Cervejada fatec quando eu ...\n",
       "4  #VempraEtec https://t.co/3W5iV6Lit7 #cps #etec...\n",
       "5  por eu já ter uma graduação na fatec, caso pas...\n",
       "6  querem faculdade pública de graça e de qualida...\n",
       "7      me inscrevi pra prestar o vestibular da fatec\n",
       "8  I Workshop de Desenvolvimento Regional do  Sud...\n",
       "9  To be more precise, the 3rd School in Brazil, ..."
      ]
     },
     "metadata": {},
     "output_type": "display_data"
    }
   ],
   "source": [
    "\n",
    "data = pd.DataFrame(data=[tweet.text for tweet in resultados], columns=['resultados'])\n",
    "display(data.head(10))\n"
   ]
  },
  {
   "cell_type": "code",
   "execution_count": 8,
   "metadata": {},
   "outputs": [],
   "source": [
    "#Adicionar dados na tabela"
   ]
  },
  {
   "cell_type": "code",
   "execution_count": 9,
   "metadata": {},
   "outputs": [],
   "source": [
    "data['len'] = np.array([len(tweet.text) for tweet in resultados])\n",
    "data['ID'] = np.array([tweet.id for tweet in resultados])\n",
    "data['Date'] = np.array([tweet.created_at for tweet in resultados])\n",
    "data['Source'] = np.array([tweet.source for tweet in resultados])\n",
    "data['Likes'] = np.array([tweet.favorite_count for tweet in resultados])\n",
    "data['RTs'] = np.array([tweet.retweet_count for tweet in resultados])"
   ]
  },
  {
   "cell_type": "code",
   "execution_count": 10,
   "metadata": {},
   "outputs": [],
   "source": [
    "def clean_tweet(resultados):\n",
    "   \n",
    "      return ' '.join(re.sub(\"(@[A-Za-z0-9]+)|([^0-9A-Za-z \\t])|      (\\w+:\\/\\/\\S+)\", \" \",resultados ).split())\n"
   ]
  },
  {
   "cell_type": "code",
   "execution_count": 11,
   "metadata": {},
   "outputs": [],
   "source": [
    "def analize_sentiment(tweet):\n",
    "      analysis = TextBlob(clean_tweet(tweet))\n",
    "      if analysis.sentiment.polarity > 0:\n",
    "          return 1\n",
    "      elif analysis.sentiment.polarity == 0:\n",
    "           return 0\n",
    "      else:\n",
    "           return -1\n"
   ]
  },
  {
   "cell_type": "code",
   "execution_count": 12,
   "metadata": {},
   "outputs": [
    {
     "name": "stdout",
     "output_type": "stream",
     "text": [
      "                                           resultados  len  \\\n",
      "0   alguém me informa onde é a famosa escadaria da...   83   \n",
      "1   @MathSL1 É que os cursos da fatec que me inter...  105   \n",
      "2      @thaylaysla no seu lugar tentaria fatec mesmo.   46   \n",
      "3   RT @robsonnunesluz: Cervejada fatec quando eu ...  107   \n",
      "4   #VempraEtec https://t.co/3W5iV6Lit7 #cps #etec...   53   \n",
      "5   por eu já ter uma graduação na fatec, caso pas...  122   \n",
      "6   querem faculdade pública de graça e de qualida...  105   \n",
      "7       me inscrevi pra prestar o vestibular da fatec   45   \n",
      "8   I Workshop de Desenvolvimento Regional do  Sud...  139   \n",
      "9   To be more precise, the 3rd School in Brazil, ...  139   \n",
      "10  A matéria mais difícil da Fatec e da Etec é a ...   54   \n",
      "11  RT @robsonnunesluz: Cervejada fatec quando eu ...  107   \n",
      "12  Estudar para passar no vestibular da Fatec.\\nA...   73   \n",
      "13  2012: último ano na escola\\n2013: comecei fate...  140   \n",
      "14  no caminho da fatec pra casa parece q eu passe...  140   \n",
      "\n",
      "                     ID                Date                        Source  \\\n",
      "0   1128369098180579328 2019-05-14 18:38:51           Twitter for Android   \n",
      "1   1128367490537488384 2019-05-14 18:32:28           Twitter for Android   \n",
      "2   1128365915496747015 2019-05-14 18:26:12               Twitter Web App   \n",
      "3   1128363838951362561 2019-05-14 18:17:57            Twitter for iPhone   \n",
      "4   1128362070393675776 2019-05-14 18:10:56  Microsoft PowerApps and Flow   \n",
      "5   1128359555216359425 2019-05-14 18:00:56               Twitter Web App   \n",
      "6   1128359352442728454 2019-05-14 18:00:08               Twitter Web App   \n",
      "7   1128359146267512833 2019-05-14 17:59:19               Twitter Web App   \n",
      "8   1128354483996647424 2019-05-14 17:40:47            Twitter Web Client   \n",
      "9   1128352022116409345 2019-05-14 17:31:00           Twitter for Android   \n",
      "10  1128351931502559233 2019-05-14 17:30:38           Twitter for Android   \n",
      "11  1128344526001713153 2019-05-14 17:01:13            Twitter for iPhone   \n",
      "12  1128340449759047681 2019-05-14 16:45:01               Twitter Web App   \n",
      "13  1128339192776409090 2019-05-14 16:40:01            Twitter Web Client   \n",
      "14  1128332100225183744 2019-05-14 16:11:50           Twitter for Android   \n",
      "\n",
      "    Likes  RTs  SA  \n",
      "0       0    0   1  \n",
      "1       1    0   0  \n",
      "2       0    0   0  \n",
      "3       0    2   0  \n",
      "4       0    0   0  \n",
      "5       0    0   0  \n",
      "6       1    0   0  \n",
      "7       0    0   0  \n",
      "8       1    0   0  \n",
      "9       2    0   1  \n",
      "10      1    0   0  \n",
      "11      0    2   0  \n",
      "12      0    0   0  \n",
      "13      0    0   0  \n",
      "14      0    0   0  \n"
     ]
    }
   ],
   "source": [
    "data['SA'] = np.array([ analize_sentiment(tweet) for tweet in data['resultados'] ])\n",
    "\n",
    "print(data)\n",
    "\n"
   ]
  },
  {
   "cell_type": "code",
   "execution_count": 13,
   "metadata": {},
   "outputs": [
    {
     "name": "stdout",
     "output_type": "stream",
     "text": [
      "Percentage of positive tweets: 13.333333333333334%\n",
      "Percentage of neutral tweets: 86.66666666666667%\n",
      "Percentage de negative tweets: 0.0%\n"
     ]
    }
   ],
   "source": [
    "pos_tweets=[tweet for index , tweet in enumerate(data['resultados'])if data['SA'][index]>0]\n",
    "neu_tweets=[tweet for index,tweet in enumerate(data['resultados'])if data['SA'][index]==0]\n",
    "neg_tweets=[tweet for index,tweet in enumerate(data['resultados'])if data['SA'][index]<0]\n",
    "\n",
    "\n",
    "\n",
    "\n",
    "print(\"Percentage of positive tweets: {}%\".format(len(pos_tweets)*100/len(data['resultados'])))\n",
    "print(\"Percentage of neutral tweets: {}%\".format(len(neu_tweets)*100/len(data['resultados'])))\n",
    "print(\"Percentage de negative tweets: {}%\".format(len(neg_tweets)*100/len(data['resultados'])))\n",
    "\n",
    "\n"
   ]
  },
  {
   "cell_type": "code",
   "execution_count": 14,
   "metadata": {},
   "outputs": [],
   "source": [
    "#Variável que irá armazenar todos os Tweets com a palavra escolhida na função search da API\n",
    "public_tweets = tweepy.API('Fatec')\n",
    " \n",
    "#Variável que irá armazenar as polaridades\n",
    "analysis = None"
   ]
  },
  {
   "cell_type": "code",
   "execution_count": 15,
   "metadata": {},
   "outputs": [
    {
     "name": "stdout",
     "output_type": "stream",
     "text": [
      "alguém me informa onde é a famosa escadaria da fatec do pra eu ver se é real ou não\n",
      "0.2\n",
      "@MathSL1 É que os cursos da fatec que me interessou ficou total na contramão, e o da etec tem um pertinho\n",
      "0.0\n",
      "@thaylaysla no seu lugar tentaria fatec mesmo.\n",
      "0.0\n",
      "RT @robsonnunesluz: Cervejada fatec quando eu lembro da do ano passado da até uma dorzinha no fígado 🤦🏾‍♂️😂\n",
      "0.0\n",
      "#VempraEtec https://t.co/3W5iV6Lit7 #cps #etec #fatec\n",
      "0.0\n",
      "por eu já ter uma graduação na fatec, caso passe nesse curso, vou eliminar metade da grade, estouro demais. espero passar.\n",
      "0.0\n",
      "querem faculdade pública de graça e de qualidade??\n",
      "FATEC é uma boa. pra quem mora em sp, recomendo muito!\n",
      "0.0\n",
      "me inscrevi pra prestar o vestibular da fatec\n",
      "0.0\n",
      "I Workshop de Desenvolvimento Regional do  Sudoeste Paulista acontece no dia 14 de junho na Fatec de Capão Bonito.  https://t.co/wTLQXrbpcg\n",
      "0.0\n",
      "To be more precise, the 3rd School in Brazil, now in #Fatec São Caetano. Other 2 schools have been  running P-Tech… https://t.co/Yq9dymdfC6\n",
      "0.19375\n",
      "A matéria mais difícil da Fatec e da Etec é a presença\n",
      "0.0\n",
      "RT @robsonnunesluz: Cervejada fatec quando eu lembro da do ano passado da até uma dorzinha no fígado 🤦🏾‍♂️😂\n",
      "0.0\n",
      "Estudar para passar no vestibular da Fatec.\n",
      "As coisas esta preta por aqui\n",
      "0.0\n",
      "2012: último ano na escola\n",
      "2013: comecei fatec e namoro\n",
      "2014: copa do mundo, desespero pra achar estágio\n",
      "2015:  com… https://t.co/SEC3AJR6Xv\n",
      "0.0\n",
      "no caminho da fatec pra casa parece q eu passei por uns 3 continentes, choveu, choveu muito, parou de chover, chove… https://t.co/X0QkYLsBXJ\n",
      "0.0\n"
     ]
    }
   ],
   "source": [
    "\n",
    "for tweet in resultados:\n",
    "      print(tweet.text)\n",
    "      analysis = TextBlob(tweet.text)\n",
    "      print(analysis.sentiment.polarity)\n",
    "    "
   ]
  },
  {
   "cell_type": "code",
   "execution_count": 16,
   "metadata": {},
   "outputs": [
    {
     "name": "stdout",
     "output_type": "stream",
     "text": [
      "MÉDIA DE SENTIMENTO: 0.0\n"
     ]
    }
   ],
   "source": [
    "print('MÉDIA DE SENTIMENTO: ' + str(np.mean(analysis.sentiment.polarity)))"
   ]
  },
  {
   "cell_type": "code",
   "execution_count": null,
   "metadata": {},
   "outputs": [],
   "source": []
  }
 ],
 "metadata": {
  "kernelspec": {
   "display_name": "Python 3",
   "language": "python",
   "name": "python3"
  },
  "language_info": {
   "codemirror_mode": {
    "name": "ipython",
    "version": 3
   },
   "file_extension": ".py",
   "mimetype": "text/x-python",
   "name": "python",
   "nbconvert_exporter": "python",
   "pygments_lexer": "ipython3",
   "version": "3.6.5"
  }
 },
 "nbformat": 4,
 "nbformat_minor": 2
}
